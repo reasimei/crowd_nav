{
 "cells": [
  {
   "cell_type": "code",
   "execution_count": null,
   "metadata": {},
   "outputs": [
    {
     "name": "stdout",
     "output_type": "stream",
     "text": [
      "[[1.505e-05]]\n",
      "[[0.59765174]]\n",
      "[[-0.62360066]]\n"
     ]
    }
   ],
   "source": [
    "import numpy as np\n",
    "\n",
    "# define three eigenvectors and mass matrix\n",
    "fi1 = np.array([0.4424,0.5574,0.7026])\n",
    "fi2 = np.array([0.7048,0.5549,-0.442])\n",
    "fi3 = np.array([-0.6754,0.7333,-0.0782])\n",
    "M = np.matrix([[1,0,0],[0,1,0],[0,0,2]])\n",
    "\n",
    "# compute the result and show it\n",
    "print(fi1.T @ M @ fi2.T)\n",
    "print(fi1.T @ M @ fi3.T)\n",
    "print(fi2.T @ M @ fi3.T)\n"
   ]
  }
 ],
 "metadata": {
  "kernelspec": {
   "display_name": "Python 3",
   "language": "python",
   "name": "python3"
  },
  "language_info": {
   "codemirror_mode": {
    "name": "ipython",
    "version": 3
   },
   "file_extension": ".py",
   "mimetype": "text/x-python",
   "name": "python",
   "nbconvert_exporter": "python",
   "pygments_lexer": "ipython3",
   "version": "3.8.10"
  }
 },
 "nbformat": 4,
 "nbformat_minor": 2
}
